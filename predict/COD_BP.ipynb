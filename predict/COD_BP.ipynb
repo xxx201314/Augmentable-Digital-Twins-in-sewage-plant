{
 "cells": [
  {
   "cell_type": "code",
   "execution_count": null,
   "metadata": {},
   "outputs": [],
   "source": [
    "import numpy as np\n",
    "import pandas as pd\n",
    "import matplotlib.pyplot as plt\n",
    "import time\n",
    "from sklearn.model_selection import train_test_split\n",
    "from sklearn.metrics import accuracy_score\n",
    "import os\n",
    "from sklearn import metrics\n",
    "from sklearn.model_selection import KFold\n",
    "from sklearn.preprocessing import MinMaxScaler\n",
    "from sklearn import metrics\n",
    "import math\n",
    "import warnings\n",
    "from matplotlib import rcParams\n",
    "\n",
    "import tensorflow as tf\n",
    "from tensorflow.python.keras.models import Sequential\n",
    "from tensorflow import keras\n",
    "from tensorflow.python.keras.layers import Dropout, Dense, LSTM,Activation,GRU,SimpleRNN\n",
    "from tensorflow.python.keras import backend as K\n",
    "\n",
    "from keras import regularizers\n",
    "from keras.losses import mean_squared_error\n",
    "\n",
    "warnings.filterwarnings(\"ignore\")"
   ]
  },
  {
   "cell_type": "code",
   "execution_count": null,
   "metadata": {},
   "outputs": [],
   "source": [
    "data_init = pd.read_excel(\"shujuji.xlsx\")\n",
    "\n",
    "x,y = data_init.iloc[:,1:6],data_init.iloc[:,-1]"
   ]
  },
  {
   "cell_type": "code",
   "execution_count": null,
   "metadata": {},
   "outputs": [],
   "source": [
    "# 数据归一化\n",
    "scaler_input = MinMaxScaler(feature_range=(0, 1))\n",
    "\n",
    "scaler_output = MinMaxScaler(feature_range=(0, 1))\n",
    "\n",
    "data_input = data_init.iloc[:,1:-1]\n",
    "data_output = np.array(data_init.iloc[:,-1]).reshape(-1, 1)\n",
    "\n",
    "\n",
    "x_data = scaler_input.fit_transform(data_input) # 数据归一化[0,1]\n",
    "y_data = scaler_output.fit_transform(data_output) # 数据归一化[0,1]\n",
    "\n",
    "\n"
   ]
  },
  {
   "cell_type": "code",
   "execution_count": null,
   "metadata": {},
   "outputs": [],
   "source": [
    "time_steps = 4"
   ]
  },
  {
   "cell_type": "code",
   "execution_count": null,
   "metadata": {},
   "outputs": [],
   "source": [
    "xx_data = []\n",
    "yy_data = []\n",
    "\n",
    "# 测试集：csv表格中前187条数据\n",
    "# 利用for循环，遍历整个训练集，提取训练集中连续5条数据作为输入特征x_train，第6条的数据作为标签\n",
    "for i in range(time_steps, len(x_data)):\n",
    "    xx_data.append(x_data[i - time_steps:i, :].tolist())\n",
    "    yy_data.append(y_data[i])\n",
    "    \n",
    "yy_data = np.array(yy_data)"
   ]
  },
  {
   "cell_type": "code",
   "execution_count": null,
   "metadata": {},
   "outputs": [],
   "source": [
    "## SVR\n",
    "xxx_data = []\n",
    "for data in xx_data:\n",
    "    model_data = []\n",
    "    # 分离子浓度计算，共5个\n",
    "    for k in range(5):\n",
    "        model_data_include = 0\n",
    "        for j in range(time_steps):\n",
    "            # 距离越近，权重越高，分别是0.1-0.2-0.3-0.4\n",
    "            model_data_include += 0.1*(j+1)*data[j][k]\n",
    "        model_data.append(model_data_include)\n",
    "    xxx_data.append(model_data)\n",
    "    "
   ]
  },
  {
   "cell_type": "code",
   "execution_count": null,
   "metadata": {},
   "outputs": [],
   "source": [
    "\n",
    "rmse = 0\n",
    "\n",
    "train_X, train_y = np.array(xxx_data)[:184], yy_data[:184]\n",
    "test_X, test_y = np.array(xxx_data)[184:], yy_data[184:]\n",
    "\n",
    "#LSTM/GRU\n",
    "train_X_nn, train_y_nn = np.array(xx_data)[:184,:], yy_data[:184]\n",
    "test_X_nn, test_y_nn = np.array(xx_data)[184:,:], yy_data[184:]\n"
   ]
  },
  {
   "cell_type": "code",
   "execution_count": null,
   "metadata": {},
   "outputs": [],
   "source": [
    "x_train,y_train = np.array(train_X_nn),np.array(train_y_nn)"
   ]
  },
  {
   "cell_type": "code",
   "execution_count": null,
   "metadata": {},
   "outputs": [],
   "source": [
    "x_train.shape,y_train.shape"
   ]
  },
  {
   "cell_type": "code",
   "execution_count": null,
   "metadata": {},
   "outputs": [],
   "source": [
    "x_test,y_test = np.array(test_X_nn),np.array(test_y_nn)\n",
    "x_test.shape,y_test.shape"
   ]
  },
  {
   "cell_type": "code",
   "execution_count": null,
   "metadata": {},
   "outputs": [],
   "source": [
    "def show_data(test_y,predict_y,title):\n",
    "    plt.figure(figsize=(10,8),dpi=100)\n",
    "    x = [i for i in range(test_y.shape[0])]\n",
    "    plt.plot(x, test_y, color='navy',lw = 2, label='Actual data')\n",
    "    plt.plot(x, predict_y, color='c',lw = 2, label='Predict data')\n",
    "    x_label = [i for i in x[::5]]\n",
    "    \n",
    "    y_label = [j for j in range(0,500,50)]\n",
    "    plt.yticks(y_label)\n",
    "    plt.xticks(x_label)\n",
    "    plt.xlabel('Time/d')\n",
    "    plt.ylabel('COD')\n",
    "    plt.title(title)\n",
    "    plt.legend()\n",
    "    plt.show()"
   ]
  },
  {
   "cell_type": "code",
   "execution_count": null,
   "metadata": {},
   "outputs": [],
   "source": [
    "model_BP = tf.keras.Sequential([\n",
    "    tf.keras.layers.Flatten(input_shape=(x_train.shape[1], x_train.shape[2])),\n",
    "    tf.keras.layers.Dense(60, activation = 'relu'),\n",
    "    tf.keras.layers.Dense(120, activation = 'relu'),\n",
    "    tf.keras.layers.Dense(240, activation = 'relu'),\n",
    "    tf.keras.layers.Dense(480, activation = 'relu'),\n",
    "    tf.keras.layers.Dense(240, activation = 'relu'),\n",
    "    tf.keras.layers.Dense(120, activation = 'relu'),\n",
    "    tf.keras.layers.Dense(60, activation = 'relu'),\n",
    "    tf.keras.layers.Dense(1)\n",
    "])\n",
    "\n",
    "model_BP.compile(optimizer = 'adam', loss = 'mse')\n",
    "callbacks = [keras.callbacks.EarlyStopping(patience = 5, min_delta = 1e-3)]\n",
    "\n",
    "#训练\n",
    "history_BP = model_BP.fit(x_train, y_train, batch_size=128, epochs=200, validation_data=(x_test, y_test), validation_freq=1)\n",
    "\n",
    "\n",
    "model_BP.summary() #打印"
   ]
  },
  {
   "cell_type": "code",
   "execution_count": null,
   "metadata": {},
   "outputs": [],
   "source": [
    "y_test1 = scaler_output.inverse_transform(y_test)"
   ]
  },
  {
   "cell_type": "code",
   "execution_count": null,
   "metadata": {},
   "outputs": [],
   "source": [
    "y_predict_BP = scaler_output.inverse_transform(model_BP.predict(x_test))"
   ]
  },
  {
   "cell_type": "code",
   "execution_count": null,
   "metadata": {},
   "outputs": [],
   "source": [
    "def show_data(test_y,predict_y,title):\n",
    "    plt.figure(figsize=(10,8),dpi=100)\n",
    "    x = [i for i in range(test_y.shape[0])]\n",
    "    plt.plot(x, test_y, color='navy',lw = 2, label='Actual data')\n",
    "    plt.plot(x, predict_y, color='c',lw = 2, label='Predict data')\n",
    "    x_label = [i for i in x[::5]]\n",
    "    \n",
    "    y_label = [j for j in range(0,500,50)]\n",
    "    plt.yticks(y_label)\n",
    "    plt.xticks(x_label)\n",
    "    plt.xlabel('Time/d')\n",
    "    plt.ylabel('COD')\n",
    "    plt.title(title)\n",
    "    plt.legend()\n",
    "    plt.show()"
   ]
  },
  {
   "cell_type": "code",
   "execution_count": null,
   "metadata": {},
   "outputs": [],
   "source": [
    "show_data(y_test1,y_predict_BP,\"GRU\")"
   ]
  },
  {
   "cell_type": "code",
   "execution_count": null,
   "metadata": {},
   "outputs": [],
   "source": [
    "data = {\"real_cod\": [index[0] for index in y_test1.tolist()], \"predicted_cod\": [index[0] for index in y_predict_BP.tolist()]}\n",
    "print(data)\n",
    "frame = pd.DataFrame(data)\n",
    "frame.to_csv(\"BP_data.csv\", index = False)"
   ]
  }
 ],
 "metadata": {
  "language_info": {
   "name": "python"
  },
  "orig_nbformat": 4
 },
 "nbformat": 4,
 "nbformat_minor": 2
}
